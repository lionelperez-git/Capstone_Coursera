{
 "cells": [
  {
   "cell_type": "markdown",
   "metadata": {},
   "source": [
    "# Relocation Analysis Tool\n"
   ]
  },
  {
   "cell_type": "markdown",
   "metadata": {},
   "source": [
    "## Introduction and problem Statement"
   ]
  },
  {
   "cell_type": "markdown",
   "metadata": {},
   "source": [
    "When preparing a relocation to another city, a usual difficulty is to get some visibility on the differents neighbourhood in destination city.\n",
    "Services already exists to get some insights on what is available in the different neighborhood.\n",
    "\n",
    "As an international relocation service company, the objective will be to offer a personalised analysis of the neighbourhoods at destination:\n",
    "\n",
    "    - Based on the current location the customer is living, a neighborhood profile is mapped.\n",
    "    \n",
    "    - The different neighborhoods of the destination city will then be mapped:\n",
    "        - Closest neighborhood, in terms of venues profiles will be identified\n",
    "        - On top, destination's neighborhoods are grouped in clusters to provide the customer with other suggestions, analysed by comparison to this reference.\n",
    "        \n",
    "    - To make the analysis complete, we will also explore the clusterisation focusing on arts & entertainment\n",
    "    \n",
    "    \n",
    "The relocation servie company being working worldwide, the tool needs to be made in a generic way, that can be executed from any city to any city."
   ]
  },
  {
   "cell_type": "markdown",
   "metadata": {},
   "source": [
    "## Scenario"
   ]
  },
  {
   "cell_type": "markdown",
   "metadata": {},
   "source": [
    "Scenario of the analysis will be the following:\n",
    "A customer is moving from Singapore to Toronto and is looking for a location in Toronto.\n",
    "He likes the environmnent he has and first would like to know if there is some neighbourhood with the same overall feeling.\n",
    "His first search will be based on Toronto Central District, where his company is located. \n",
    "The company needs to provide him with some insights on Toronto, in a personalised way, meaning compared to his current neighbourhood.\n",
    "Company has to:\n",
    "* Identify the most similar neighbourhood in Toronto\n",
    "* Provide additional suggestions on similar neighbourhoods\n",
    "* Provide Additional insights, related to Arts & Entertainment that the customer already mentioned, along as being prepared for other extensive analyses on different aspects (eg. Nightlife).\n",
    "    Especially, regarding Art & Entertainment, customer is not really satisfied with what the current neighborhood offers and is opened to new suggestions\n",
    "* According to finding, suggest a neighbourhood for the customer"
   ]
  },
  {
   "cell_type": "markdown",
   "metadata": {},
   "source": [
    "## Data overview"
   ]
  },
  {
   "cell_type": "markdown",
   "metadata": {},
   "source": [
    "To reach the business objectives, we will use the following data:\n",
    "\n",
    "* Current address of customer (manually decided). Either latitude and longitude, or only an adress and using https://nominatim.openstreetmap.org/search to get geocoordinates afterward.\n",
    "* Future area to relocate, defined by it's center and a radius of search.\n",
    "    * In order to be as generic as possible, it will not be based on external data, but instead we will be using a manually defined grid.\n",
    "    * For resource constraints, this area will then be divided in a regular grid of ~30 \"neighborhoods\", the size being adapted to the initial radius defined.\n",
    "\n",
    "\n",
    "\n",
    "On top, foursquare APIs will be used to capture:\n",
    "* Recommended venues around the current address of customer in order to get a reference neighboorhood profile\n",
    "* Recommended venues on the different districts of destination area"
   ]
  },
  {
   "cell_type": "code",
   "execution_count": null,
   "metadata": {},
   "outputs": [],
   "source": []
  }
 ],
 "metadata": {
  "kernelspec": {
   "display_name": "Python 3",
   "language": "python",
   "name": "python3"
  },
  "language_info": {
   "codemirror_mode": {
    "name": "ipython",
    "version": 3
   },
   "file_extension": ".py",
   "mimetype": "text/x-python",
   "name": "python",
   "nbconvert_exporter": "python",
   "pygments_lexer": "ipython3",
   "version": "3.7.4"
  }
 },
 "nbformat": 4,
 "nbformat_minor": 4
}
